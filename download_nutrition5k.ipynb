{
  "cells": [
    {
      "cell_type": "code",
      "execution_count": null,
      "metadata": {
        "colab": {
          "base_uri": "https://localhost:8080/"
        },
        "id": "TD31_zOLfMUR",
        "outputId": "11ec4009-63b0-4960-dc19-40bbd8a85d59"
      },
      "outputs": [],
      "source": [
        "# check whether google cloud utils installed\n",
        "!gsutil --version"
      ]
    },
    {
      "cell_type": "code",
      "execution_count": null,
      "metadata": {
        "colab": {
          "base_uri": "https://localhost:8080/"
        },
        "id": "cESoLbE5f_NS",
        "outputId": "0057ba3e-8fc2-4bad-b7bc-1d24749e5705"
      },
      "outputs": [],
      "source": [
        "# download data\n",
        "!mkdir -p nutrition5k_dataset/metadata\n",
        "!mkdir -p nutrition5k_dataset/dish_ids\n",
        "!mkdir -p nutrition5k_dataset/imagery\n",
        "!gsutil -m cp -r \"gs://nutrition5k_dataset/nutrition5k_dataset/dish_ids/dish_ids_all.txt\" ./nutrition5k_dataset/dish_ids/\n",
        "!gsutil -m cp -r \"gs://nutrition5k_dataset/nutrition5k_dataset/metadata/dish_metadata_cafe1.csv\" ./nutrition5k_dataset/metadata/\n",
        "!gsutil -m cp -r \"gs://nutrition5k_dataset/nutrition5k_dataset/imagery/realsense_overhead\" ./nutrition5k_dataset/imagery/"
      ]
    }
  ],
  "metadata": {
    "colab": {
      "provenance": []
    },
    "kernelspec": {
      "display_name": "Python 3",
      "name": "python3"
    },
    "language_info": {
      "name": "python"
    }
  },
  "nbformat": 4,
  "nbformat_minor": 0
}
